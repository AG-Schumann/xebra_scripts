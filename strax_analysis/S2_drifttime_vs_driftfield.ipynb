{
 "cells": [
  {
   "cell_type": "code",
   "execution_count": 134,
   "metadata": {},
   "outputs": [],
   "source": [
    "import numpy as np\n",
    "import matplotlib as mpl\n",
    "import matplotlib.pyplot as plt\n",
    "import matplotlib.colors as mcolors\n",
    "from matplotlib import colors\n",
    "from matplotlib.colors import LogNorm\n",
    "import math\n",
    "\n",
    "%matplotlib inline\n",
    "from scipy.optimize import curve_fit, minimize\n",
    "import strax\n",
    "import straxbra\n",
    "import matplotlib.gridspec as gridspec\n",
    "from matplotlib.patches import Rectangle\n",
    "import matplotlib.patches as patches"
   ]
  },
  {
   "cell_type": "code",
   "execution_count": 135,
   "metadata": {},
   "outputs": [],
   "source": [
    "ctx = straxbra.XebraContext()"
   ]
  },
  {
   "cell_type": "code",
   "execution_count": 136,
   "metadata": {},
   "outputs": [],
   "source": [
    "run = '00201'\n",
    "peaks_data = ctx.get_array(run, 'peaks')"
   ]
  },
  {
   "cell_type": "code",
   "execution_count": 137,
   "metadata": {},
   "outputs": [],
   "source": [
    "waveform = peaks_data['data']\n",
    "integral = peaks_data['area']\n",
    "width = peaks_data['width'][:,5]\n",
    "timestamp = peaks_data['time']\n",
    "area_per_channel = peaks_data['area_per_channel']\n",
    "risetime = -peaks_data['area_decile_from_midpoint'][:,1]"
   ]
  },
  {
   "cell_type": "code",
   "execution_count": 138,
   "metadata": {},
   "outputs": [],
   "source": [
    "def CutCondition(waveform, i):\n",
    "    \n",
    "    \n",
    "    FirstPeak_area = sum(waveform[i][:15]) # range in samples (not ns!)\n",
    "    Risetime_first_peak = np.argmax(waveform[i][:15])*10\n",
    "    SecondPeak_area = sum(waveform[i][15:]) # range in samples (not ns!)\n",
    "    Risetime_second_peak = np.argmax(waveform[i][15:])*10\n",
    "    \n",
    "    if  FirstPeak_area > 100 and FirstPeak_area < 600 and SecondPeak_area > 40 and SecondPeak_area  < 200: \n",
    "#        print (i , secondS1_area, secondS1_peaktime)\n",
    "        return(True, Risetime_first_peak, Risetime_second_peak)\n",
    "    else:\n",
    "        return(False, 0, 0)\n",
    "    "
   ]
  },
  {
   "cell_type": "code",
   "execution_count": 139,
   "metadata": {},
   "outputs": [],
   "source": [
    "def Process(waveform, i):\n",
    "\n",
    "    CutFlag, Risetime_first_peak, Risetime_second_peak = CutCondition(waveform, i)\n",
    "    if CutFlag == True:\n",
    "            \n",
    "        if integral[i+1] > 300 and width[i+1] >200 and width[i+1] < 2000 and timestamp[i+1] < timestamp[i]+65000: \n",
    "            Kr_S2_area.append(integral[i+1])\n",
    "            Kr_S2_width.append(width[i+1])\n",
    "            Kr_S2_risetime.append(risetime[i+1])\n",
    "            Kr_drifttime.append(timestamp[i+1] - timestamp[i])\n",
    "          \n",
    "        elif integral[i+2] > 300 and width[i+2] >200 and width[i+2] < 2000 and timestamp[i+2] < timestamp[i]+65000: \n",
    "            Kr_S2_area.append(integral[i+2])\n",
    "            Kr_S2_width.append(width[i+2])\n",
    "            Kr_S2_risetime.append(risetime[i+2])\n",
    "            Kr_drifttime.append(timestamp[i+2] - timestamp[i])\n",
    "\n",
    "        elif integral[i+3] > 300 and width[i+3] >200 and width[i+3] < 2000 and timestamp[i+3] < timestamp[i]+65000:\n",
    "            Kr_S2_area.append(integral[i+3])\n",
    "            Kr_S2_width.append(width[i+3])\n",
    "            Kr_S2_risetime.append(risetime[i+3])\n",
    "            Kr_drifttime.append(timestamp[i+3] - timestamp[i])\n",
    "  \n",
    "        elif integral[i+4] > 300 and width[i+4] >200 and width[i+4] < 2000 and timestamp[i+4] < timestamp[i]+65000:\n",
    "            Kr_S2_area.append(integral[i+4])\n",
    "            Kr_S2_width.append(width[i+4])\n",
    "            Kr_S2_risetime.append(risetime[i+4])\n",
    "            Kr_drifttime.append(timestamp[i+4] - timestamp[i])\n",
    "     \n",
    "        elif integral[i+5] > 300 and width[i+5] >200 and width[i+5] < 2000 and timestamp[i+5] < timestamp[i]+65000:\n",
    "            Kr_S2_area.append(integral[i+5])\n",
    "            Kr_S2_width.append(width[i+5])\n",
    "            Kr_S2_risetime.append(risetime[i+5])\n",
    "            Kr_drifttime.append(timestamp[i+5] - timestamp[i])\n",
    "\n",
    "        elif integral[i+6] > 300 and width[i+6] >200 and width[i+6] < 2000 and timestamp[i+6] < timestamp[i]+65000:\n",
    "            Kr_S2_area.append(integral[i+6])\n",
    "            Kr_S2_width.append(width[i+6])\n",
    "            Kr_S2_risetime.append(risetime[i+6])\n",
    "            Kr_drifttime.append(timestamp[i+6] - timestamp[i])\n",
    "            \n",
    "        elif integral[i+7] > 300 and width[i+7] >200 and width[i+7] < 2000 and timestamp[i+7] < timestamp[i]+65000:\n",
    "            Kr_S2_area.append(integral[i+7])\n",
    "            Kr_S2_width.append(width[i+7])\n",
    "            Kr_S2_risetime.append(risetime[i+7])\n",
    "            Kr_drifttime.append(timestamp[i+7] - timestamp[i])\n",
    "            \n",
    "\n",
    "        elif integral[i+8] > 300 and width[i+8] >200 and width[i+8] < 2000 and timestamp[i+8] < timestamp[i]+65000:\n",
    "            Kr_S2_area.append(integral[i+8])\n",
    "            Kr_S2_width.append(width[i+8])\n",
    "            Kr_S2_risetime.append(risetime[i+8])\n",
    "            Kr_drifttime.append(timestamp[i+8] - timestamp[i])\n",
    "            \n",
    "        elif integral[i+9] > 300 and width[i+9] >200 and width[i+9] < 2000 and timestamp[i+9] < timestamp[i]+65000:\n",
    "            Kr_S2_area.append(integral[i+9])\n",
    "            Kr_S2_width.append(width[i+9])\n",
    "            Kr_S2_risetime.append(risetime[i+9])\n",
    "            Kr_drifttime.append(timestamp[i+9] - timestamp[i])\n",
    "\n",
    "\n",
    "            \n"
   ]
  },
  {
   "cell_type": "code",
   "execution_count": 140,
   "metadata": {},
   "outputs": [],
   "source": [
    "num = len(waveform)\n",
    "\n",
    "Kr_S2_area = []\n",
    "Kr_S2_width = []\n",
    "Kr_S2_risetime = []\n",
    "Kr_drifttime = []\n",
    "\n",
    "for i in range(0,num):\n",
    "    \n",
    "    Process(waveform,i)"
   ]
  },
  {
   "cell_type": "code",
   "execution_count": 144,
   "metadata": {},
   "outputs": [
    {
     "name": "stdout",
     "output_type": "stream",
     "text": [
      "drifttime is then:  53181.818181818184 +/-  328.2828282828283\n"
     ]
    },
    {
     "data": {
      "image/png": "[encoded data removed]",
      "text/plain": [
       "<Figure size 1296x936 with 1 Axes>"
      ]
     },
     "metadata": {
      "needs_background": "light"
     },
     "output_type": "display_data"
    }
   ],
   "source": [
    "number_patch = 80\n",
    "number_patch_a = 7\n",
    "fig, ax = plt.subplots(figsize=(18,13))\n",
    "bins_x = np.linspace(0,65000,100)\n",
    "\n",
    "bin_fullwidths = (bins_x[1:] - bins_x[:-1])\n",
    "counts,_, patches = plt.hist(Kr_drifttime, edgecolor='white', bins=bins_x, color='C2')\n",
    "patches[number_patch].set_fc('r')\n",
    "\n",
    "print('drifttime is then: ', bins_x[number_patch+1], '+/- ', 0.5*bin_fullwidths[1] )\n",
    "\n",
    "ax.set_xlabel('Drift time [us]')\n",
    "ax.set_ylabel('S2')\n",
    "plt.show()\n",
    "\n",
    "# print(len(counts[-85:]))\n",
    "# fig, ax = plt.subplots(figsize=(18,13))\n",
    "# bins_a = np.linspace(0,300,20)\n",
    "# counts_a,_, patches_a = plt.hist(counts[-85:], edgecolor='white', bins=bins_a, color='C2')\n",
    "# patches_a[number_patch_a].set_fc('r')\n",
    "# plt.show()\n",
    "# print(counts[index_max])\n",
    "# # print(counts)\n",
    "# # print(len(counts))\n",
    "# # print(max(counts))\n",
    "# # print(bins_x)\n",
    "# print(counts[-15:])\n",
    "# print(bins_x[-15:])\n",
    "# #print(counts.index(max(counts)))\n",
    "\n",
    "# for i in range:\n",
    "# #     if counts[i] < 0.2 * counts[index_max]:\n",
    "# #         print(i)"
   ]
  },
  {
   "cell_type": "code",
   "execution_count": 142,
   "metadata": {},
   "outputs": [
    {
     "data": {
      "text/plain": [
       "1.2767440699209176"
      ]
     },
     "execution_count": 142,
     "metadata": {},
     "output_type": "execute_result"
    }
   ],
   "source": [
    "TPC_length = 71.5\n",
    "\n",
    "\n",
    "def power_law(x):\n",
    "\n",
    "    power_law = 0.71*x**0.15\n",
    "    return power_law\n",
    "    \n",
    "\n",
    "power_law(50)\n"
   ]
  },
  {
   "cell_type": "code",
   "execution_count": 143,
   "metadata": {},
   "outputs": [],
   "source": [
    "drifttime_list = [40707.07070707071]\n"
   ]
  }
 ],
 "metadata": {
  "kernelspec": {
   "display_name": "Python [conda env:strax]",
   "language": "python",
   "name": "conda-env-strax-py"
  },
  "language_info": {
   "codemirror_mode": {
    "name": "ipython",
    "version": 3
   },
   "file_extension": ".py",
   "mimetype": "text/x-python",
   "name": "python",
   "nbconvert_exporter": "python",
   "pygments_lexer": "ipython3",
   "version": "3.7.3"
  }
 },
 "nbformat": 4,
 "nbformat_minor": 2
}
