{
 "cells": [
  {
   "cell_type": "code",
   "execution_count": 7,
   "metadata": {},
   "outputs": [
    {
     "name": "stderr",
     "output_type": "stream",
     "text": [
      "Using TensorFlow backend.\n"
     ]
    }
   ],
   "source": [
    "import numpy as np\n",
    "import matplotlib as mpl\n",
    "import matplotlib.pyplot as plt\n",
    "from matplotlib.colors import LogNorm\n",
    "%matplotlib inline\n",
    "\n",
    "import os\n",
    "#import strax\n",
    "import straxbra"
   ]
  },
  {
   "cell_type": "code",
   "execution_count": 8,
   "metadata": {},
   "outputs": [],
   "source": [
    "ctx = straxbra.XebraContext()"
   ]
  },
  {
   "cell_type": "code",
   "execution_count": 10,
   "metadata": {},
   "outputs": [
    {
     "name": "stdout",
     "output_type": "stream",
     "text": [
      "DAQReader:140679108521600 waiting for chunk 0\n",
      "DAQReader:140679108521600 waiting for chunk 0\n",
      "DAQReader:140679108521600 waiting for chunk 0\n",
      "DAQReader:140679108521600 waiting for chunk 0\n",
      "DAQReader:140679108521600 waiting for chunk 0\n",
      "DAQReader:140679108521600 waiting for chunk 0\n",
      "DAQReader:140679108521600 waiting for chunk 0\n",
      "DAQReader:140679108521600 waiting for chunk 0\n",
      "DAQReader:140679108521600 waiting for chunk 0\n",
      "DAQReader:140679108521600 waiting for chunk 0\n",
      "DAQReader:140679108521600 waiting for chunk 0\n",
      "DAQReader:140679108521600 waiting for chunk 0\n",
      "DAQReader:140679108521600 waiting for chunk 0\n",
      "DAQReader:140679108521600 waiting for chunk 0\n",
      "DAQReader:140679108521600 waiting for chunk 0\n",
      "DAQReader:140679108521600 waiting for chunk 0\n",
      "DAQReader:140679108521600 waiting for chunk 0\n",
      "DAQReader:140679108521600 waiting for chunk 0\n",
      "DAQReader:140679108521600 waiting for chunk 0\n",
      "DAQReader:140679108521600 waiting for chunk 0\n",
      "DAQReader:140679108521600 waiting for chunk 0\n",
      "DAQReader:140679108521600 waiting for chunk 0\n",
      "DAQReader:140679108521600 waiting for chunk 0\n",
      "DAQReader:140679108521600 waiting for chunk 0\n",
      "DAQReader:140679108521600 waiting for chunk 0\n",
      "DAQReader:140679108521600 waiting for chunk 0\n",
      "DAQReader:140679108521600 waiting for chunk 0\n",
      "DAQReader:140679108521600 waiting for chunk 0\n",
      "DAQReader:140679108521600 waiting for chunk 0\n",
      "DAQReader:140679108521600 waiting for chunk 0\n",
      "DAQReader:140679108521600 waiting for chunk 0\n",
      "DAQReader:140679108521600 waiting for chunk 0\n",
      "DAQReader:140679108521600 waiting for chunk 0\n",
      "DAQReader:140679108521600 waiting for chunk 0\n",
      "DAQReader:140679108521600 waiting for chunk 0\n",
      "DAQReader:140679108521600 waiting for chunk 0\n",
      "DAQReader:140679108521600 waiting for chunk 0\n",
      "DAQReader:140679108521600 waiting for chunk 0\n",
      "DAQReader:140679108521600 waiting for chunk 0\n",
      "DAQReader:140679108521600 waiting for chunk 0\n"
     ]
    },
    {
     "name": "stderr",
     "output_type": "stream",
     "text": [
      "Killing mailbox due to exception {e}!\n",
      "Exception in thread source:raw_records_parallelsource_mailbox:\n",
      "Traceback (most recent call last):\n",
      "  File \"/software/anaconda3/envs/strax/lib/python3.7/threading.py\", line 917, in _bootstrap_inner\n",
      "    self.run()\n",
      "  File \"/software/anaconda3/envs/strax/lib/python3.7/threading.py\", line 865, in run\n",
      "    self._target(*self._args, **self._kwargs)\n",
      "  File \"/software/strax/strax/mailbox.py\", line 184, in _send_from\n",
      "    self.kill_from_exception(e)\n",
      "  File \"/software/strax/strax/mailbox.py\", line 155, in kill_from_exception\n",
      "    raise e\n",
      "  File \"/software/strax/strax/mailbox.py\", line 181, in _send_from\n",
      "    for x in iterable:\n",
      "  File \"/software/strax/strax/plugin.py\", line 194, in iter\n",
      "    yield from self._inner_iter(iters, pending, executor)\n",
      "  File \"/software/strax/strax/plugin.py\", line 213, in _inner_iter\n",
      "    f\"{self.__class__.__name__}:{id(self)} waited for \"\n",
      "strax.plugin.InputTimeoutExceeded: DAQReader:140679108521600 waited for more  than 80 sec for arrival of input chunk 0, and has given up.\n",
      "\n"
     ]
    },
    {
     "ename": "InputTimeoutExceeded",
     "evalue": "DAQReader:140679108521600 waited for more  than 80 sec for arrival of input chunk 0, and has given up.",
     "output_type": "error",
     "traceback": [
      "\u001b[0;31m---------------------------------------------------------------------------\u001b[0m",
      "\u001b[0;31mInputTimeoutExceeded\u001b[0m                      Traceback (most recent call last)",
      "\u001b[0;32m<ipython-input-10-d9c577ba361e>\u001b[0m in \u001b[0;36m<module>\u001b[0;34m\u001b[0m\n\u001b[1;32m      1\u001b[0m \u001b[0mrun\u001b[0m \u001b[0;34m=\u001b[0m \u001b[0;34m'00163'\u001b[0m\u001b[0;34m\u001b[0m\u001b[0;34m\u001b[0m\u001b[0m\n\u001b[0;32m----> 2\u001b[0;31m \u001b[0mpeaks_data_xebra\u001b[0m \u001b[0;34m=\u001b[0m \u001b[0mctx\u001b[0m\u001b[0;34m.\u001b[0m\u001b[0mget_array\u001b[0m\u001b[0;34m(\u001b[0m\u001b[0mrun\u001b[0m\u001b[0;34m,\u001b[0m \u001b[0;34m'peaks'\u001b[0m\u001b[0;34m)\u001b[0m\u001b[0;34m\u001b[0m\u001b[0;34m\u001b[0m\u001b[0m\n\u001b[0m",
      "\u001b[0;32m/software/straxbra/straxbra/xebra_context.py\u001b[0m in \u001b[0;36mget_array\u001b[0;34m(self, run_id, *args, **kwargs)\u001b[0m\n\u001b[1;32m     34\u001b[0m     \u001b[0;32mdef\u001b[0m \u001b[0mget_array\u001b[0m\u001b[0;34m(\u001b[0m\u001b[0mself\u001b[0m\u001b[0;34m,\u001b[0m \u001b[0mrun_id\u001b[0m\u001b[0;34m,\u001b[0m \u001b[0;34m*\u001b[0m\u001b[0margs\u001b[0m\u001b[0;34m,\u001b[0m \u001b[0;34m**\u001b[0m\u001b[0mkwargs\u001b[0m\u001b[0;34m)\u001b[0m \u001b[0;34m->\u001b[0m \u001b[0mnp\u001b[0m\u001b[0;34m.\u001b[0m\u001b[0mndarray\u001b[0m\u001b[0;34m:\u001b[0m\u001b[0;34m\u001b[0m\u001b[0;34m\u001b[0m\u001b[0m\n\u001b[1;32m     35\u001b[0m         \u001b[0mrun_id\u001b[0m \u001b[0;34m=\u001b[0m \u001b[0mprocess_runlist\u001b[0m\u001b[0;34m(\u001b[0m\u001b[0mrun_id\u001b[0m\u001b[0;34m)\u001b[0m\u001b[0;34m\u001b[0m\u001b[0;34m\u001b[0m\u001b[0m\n\u001b[0;32m---> 36\u001b[0;31m         \u001b[0;32mreturn\u001b[0m \u001b[0msuper\u001b[0m\u001b[0;34m(\u001b[0m\u001b[0;34m)\u001b[0m\u001b[0;34m.\u001b[0m\u001b[0mget_array\u001b[0m\u001b[0;34m(\u001b[0m\u001b[0mrun_id\u001b[0m\u001b[0;34m,\u001b[0m \u001b[0;34m*\u001b[0m\u001b[0margs\u001b[0m\u001b[0;34m,\u001b[0m \u001b[0;34m**\u001b[0m\u001b[0mkwargs\u001b[0m\u001b[0;34m)\u001b[0m\u001b[0;34m\u001b[0m\u001b[0;34m\u001b[0m\u001b[0m\n\u001b[0m\u001b[1;32m     37\u001b[0m \u001b[0;34m\u001b[0m\u001b[0m\n\u001b[1;32m     38\u001b[0m     \u001b[0;32mdef\u001b[0m \u001b[0mget_df\u001b[0m\u001b[0;34m(\u001b[0m\u001b[0mself\u001b[0m\u001b[0;34m,\u001b[0m \u001b[0mrun_id\u001b[0m\u001b[0;34m,\u001b[0m \u001b[0;34m*\u001b[0m\u001b[0margs\u001b[0m\u001b[0;34m,\u001b[0m \u001b[0;34m**\u001b[0m\u001b[0mkwargs\u001b[0m\u001b[0;34m)\u001b[0m \u001b[0;34m->\u001b[0m \u001b[0mpd\u001b[0m\u001b[0;34m.\u001b[0m\u001b[0mDataFrame\u001b[0m\u001b[0;34m:\u001b[0m\u001b[0;34m\u001b[0m\u001b[0;34m\u001b[0m\u001b[0m\n",
      "\u001b[0;32m/software/strax/strax/context.py\u001b[0m in \u001b[0;36mget_array\u001b[0;34m(self, run_id, targets, save, max_workers, **kwargs)\u001b[0m\n\u001b[1;32m    682\u001b[0m             results = list(self.get_iter(run_ids[0], targets,\n\u001b[1;32m    683\u001b[0m                                          \u001b[0msave\u001b[0m\u001b[0;34m=\u001b[0m\u001b[0msave\u001b[0m\u001b[0;34m,\u001b[0m \u001b[0mmax_workers\u001b[0m\u001b[0;34m=\u001b[0m\u001b[0mmax_workers\u001b[0m\u001b[0;34m,\u001b[0m\u001b[0;34m\u001b[0m\u001b[0;34m\u001b[0m\u001b[0m\n\u001b[0;32m--> 684\u001b[0;31m                                          **kwargs))\n\u001b[0m\u001b[1;32m    685\u001b[0m         \u001b[0;32mif\u001b[0m \u001b[0mlen\u001b[0m\u001b[0;34m(\u001b[0m\u001b[0mresults\u001b[0m\u001b[0;34m)\u001b[0m\u001b[0;34m:\u001b[0m\u001b[0;34m\u001b[0m\u001b[0;34m\u001b[0m\u001b[0m\n\u001b[1;32m    686\u001b[0m             \u001b[0;32mreturn\u001b[0m \u001b[0mnp\u001b[0m\u001b[0;34m.\u001b[0m\u001b[0mconcatenate\u001b[0m\u001b[0;34m(\u001b[0m\u001b[0mresults\u001b[0m\u001b[0;34m)\u001b[0m\u001b[0;34m\u001b[0m\u001b[0;34m\u001b[0m\u001b[0m\n",
      "\u001b[0;32m/software/strax/strax/context.py\u001b[0m in \u001b[0;36mget_iter\u001b[0;34m(self, run_id, targets, save, max_workers, time_range, seconds_range, selection, **kwargs)\u001b[0m\n\u001b[1;32m    638\u001b[0m                 \u001b[0mallow_shm\u001b[0m\u001b[0;34m=\u001b[0m\u001b[0mself\u001b[0m\u001b[0;34m.\u001b[0m\u001b[0mcontext_config\u001b[0m\u001b[0;34m[\u001b[0m\u001b[0;34m'allow_shm'\u001b[0m\u001b[0;34m]\u001b[0m\u001b[0;34m,\u001b[0m\u001b[0;34m\u001b[0m\u001b[0;34m\u001b[0m\u001b[0m\n\u001b[1;32m    639\u001b[0m                 \u001b[0mallow_multiprocess\u001b[0m\u001b[0;34m=\u001b[0m\u001b[0mself\u001b[0m\u001b[0;34m.\u001b[0m\u001b[0mcontext_config\u001b[0m\u001b[0;34m[\u001b[0m\u001b[0;34m'allow_multiprocess'\u001b[0m\u001b[0;34m]\u001b[0m\u001b[0;34m,\u001b[0m\u001b[0;34m\u001b[0m\u001b[0;34m\u001b[0m\u001b[0m\n\u001b[0;32m--> 640\u001b[0;31m                 allow_rechunk=self.context_config['allow_rechunk']).iter():\n\u001b[0m\u001b[1;32m    641\u001b[0m             \u001b[0;32mif\u001b[0m \u001b[0mselection\u001b[0m \u001b[0;32mis\u001b[0m \u001b[0;32mnot\u001b[0m \u001b[0;32mNone\u001b[0m\u001b[0;34m:\u001b[0m\u001b[0;34m\u001b[0m\u001b[0;34m\u001b[0m\u001b[0m\n\u001b[1;32m    642\u001b[0m                 mask = numexpr.evaluate(selection, local_dict={\n",
      "\u001b[0;32m/software/strax/strax/processor.py\u001b[0m in \u001b[0;36miter\u001b[0;34m(self)\u001b[0m\n\u001b[1;32m    189\u001b[0m             \u001b[0;31m# which is printed for the user\u001b[0m\u001b[0;34m\u001b[0m\u001b[0;34m\u001b[0m\u001b[0;34m\u001b[0m\u001b[0m\n\u001b[1;32m    190\u001b[0m             \u001b[0mself\u001b[0m\u001b[0;34m.\u001b[0m\u001b[0mlog\u001b[0m\u001b[0;34m.\u001b[0m\u001b[0mdebug\u001b[0m\u001b[0;34m(\u001b[0m\u001b[0;34m\"Reraising exception\"\u001b[0m\u001b[0;34m)\u001b[0m\u001b[0;34m\u001b[0m\u001b[0;34m\u001b[0m\u001b[0m\n\u001b[0;32m--> 191\u001b[0;31m             \u001b[0;32mraise\u001b[0m \u001b[0mexc\u001b[0m\u001b[0;34m.\u001b[0m\u001b[0mwith_traceback\u001b[0m\u001b[0;34m(\u001b[0m\u001b[0mtraceback\u001b[0m\u001b[0;34m)\u001b[0m\u001b[0;34m\u001b[0m\u001b[0;34m\u001b[0m\u001b[0m\n\u001b[0m\u001b[1;32m    192\u001b[0m \u001b[0;34m\u001b[0m\u001b[0m\n\u001b[1;32m    193\u001b[0m         \u001b[0;31m# Check the savers for any exception that occurred during saving\u001b[0m\u001b[0;34m\u001b[0m\u001b[0;34m\u001b[0m\u001b[0;34m\u001b[0m\u001b[0m\n",
      "\u001b[0;32m/software/strax/strax/mailbox.py\u001b[0m in \u001b[0;36m_send_from\u001b[0;34m(self, iterable)\u001b[0m\n\u001b[1;32m    179\u001b[0m         \"\"\"\n\u001b[1;32m    180\u001b[0m         \u001b[0;32mtry\u001b[0m\u001b[0;34m:\u001b[0m\u001b[0;34m\u001b[0m\u001b[0;34m\u001b[0m\u001b[0m\n\u001b[0;32m--> 181\u001b[0;31m             \u001b[0;32mfor\u001b[0m \u001b[0mx\u001b[0m \u001b[0;32min\u001b[0m \u001b[0miterable\u001b[0m\u001b[0;34m:\u001b[0m\u001b[0;34m\u001b[0m\u001b[0;34m\u001b[0m\u001b[0m\n\u001b[0m\u001b[1;32m    182\u001b[0m                 \u001b[0mself\u001b[0m\u001b[0;34m.\u001b[0m\u001b[0msend\u001b[0m\u001b[0;34m(\u001b[0m\u001b[0mx\u001b[0m\u001b[0;34m)\u001b[0m\u001b[0;34m\u001b[0m\u001b[0;34m\u001b[0m\u001b[0m\n\u001b[1;32m    183\u001b[0m         \u001b[0;32mexcept\u001b[0m \u001b[0mException\u001b[0m \u001b[0;32mas\u001b[0m \u001b[0me\u001b[0m\u001b[0;34m:\u001b[0m\u001b[0;34m\u001b[0m\u001b[0;34m\u001b[0m\u001b[0m\n",
      "\u001b[0;32m/software/strax/strax/plugin.py\u001b[0m in \u001b[0;36miter\u001b[0;34m(self, iters, executor)\u001b[0m\n\u001b[1;32m    192\u001b[0m         \u001b[0miters\u001b[0m \u001b[0;34m=\u001b[0m \u001b[0mkind_iters\u001b[0m\u001b[0;34m\u001b[0m\u001b[0;34m\u001b[0m\u001b[0m\n\u001b[1;32m    193\u001b[0m         \u001b[0mpending\u001b[0m \u001b[0;34m=\u001b[0m \u001b[0;34m[\u001b[0m\u001b[0;34m]\u001b[0m\u001b[0;34m\u001b[0m\u001b[0;34m\u001b[0m\u001b[0m\n\u001b[0;32m--> 194\u001b[0;31m         \u001b[0;32myield\u001b[0m \u001b[0;32mfrom\u001b[0m \u001b[0mself\u001b[0m\u001b[0;34m.\u001b[0m\u001b[0m_inner_iter\u001b[0m\u001b[0;34m(\u001b[0m\u001b[0miters\u001b[0m\u001b[0;34m,\u001b[0m \u001b[0mpending\u001b[0m\u001b[0;34m,\u001b[0m \u001b[0mexecutor\u001b[0m\u001b[0;34m)\u001b[0m\u001b[0;34m\u001b[0m\u001b[0;34m\u001b[0m\u001b[0m\n\u001b[0m\u001b[1;32m    195\u001b[0m         \u001b[0mself\u001b[0m\u001b[0;34m.\u001b[0m\u001b[0mcleanup\u001b[0m\u001b[0;34m(\u001b[0m\u001b[0mwait_for\u001b[0m\u001b[0;34m=\u001b[0m\u001b[0mpending\u001b[0m\u001b[0;34m)\u001b[0m\u001b[0;34m\u001b[0m\u001b[0;34m\u001b[0m\u001b[0m\n\u001b[1;32m    196\u001b[0m \u001b[0;34m\u001b[0m\u001b[0m\n",
      "\u001b[0;32m/software/strax/strax/plugin.py\u001b[0m in \u001b[0;36m_inner_iter\u001b[0;34m(self, iters, pending, executor)\u001b[0m\n\u001b[1;32m    211\u001b[0m                 \u001b[0;32mif\u001b[0m \u001b[0mtime\u001b[0m\u001b[0;34m.\u001b[0m\u001b[0mtime\u001b[0m\u001b[0;34m(\u001b[0m\u001b[0;34m)\u001b[0m \u001b[0;34m>\u001b[0m \u001b[0mlast_input_received\u001b[0m \u001b[0;34m+\u001b[0m \u001b[0mself\u001b[0m\u001b[0;34m.\u001b[0m\u001b[0minput_timeout\u001b[0m\u001b[0;34m:\u001b[0m\u001b[0;34m\u001b[0m\u001b[0;34m\u001b[0m\u001b[0m\n\u001b[1;32m    212\u001b[0m                     raise InputTimeoutExceeded(\n\u001b[0;32m--> 213\u001b[0;31m                         \u001b[0;34mf\"{self.__class__.__name__}:{id(self)} waited for \"\u001b[0m\u001b[0;34m\u001b[0m\u001b[0;34m\u001b[0m\u001b[0m\n\u001b[0m\u001b[1;32m    214\u001b[0m                         \u001b[0;34mf\"more  than {self.input_timeout} sec for arrival of \"\u001b[0m\u001b[0;34m\u001b[0m\u001b[0;34m\u001b[0m\u001b[0m\n\u001b[1;32m    215\u001b[0m                         f\"input chunk {chunk_i}, and has given up.\")\n",
      "\u001b[0;31mInputTimeoutExceeded\u001b[0m: DAQReader:140679108521600 waited for more  than 80 sec for arrival of input chunk 0, and has given up."
     ]
    }
   ],
   "source": [
    "run = '00163'\n",
    "peaks_data_xebra = ctx.get_array(run, 'peaks')"
   ]
  },
  {
   "cell_type": "code",
   "execution_count": null,
   "metadata": {},
   "outputs": [],
   "source": [
    "# run_raw = '00051'\n",
    "# raw = ctx.get_array(run_raw, 'raw_records')\n",
    "# waveform_raw = raw['data']\n",
    "\n"
   ]
  },
  {
   "cell_type": "code",
   "execution_count": null,
   "metadata": {},
   "outputs": [],
   "source": [
    "# for i in range(0,1000):\n",
    "\n",
    "#     fig, ax1 = plt.subplots(sharex=False, figsize=(12, 3.5))\n",
    "#     ax1.plot(waveform_raw[i])\n",
    "#     plt.show()"
   ]
  },
  {
   "cell_type": "code",
   "execution_count": null,
   "metadata": {},
   "outputs": [],
   "source": [
    "waveform = peaks_data_xebra['data']\n",
    "integral = peaks_data_xebra['area']\n",
    "width = peaks_data_xebra['width'][:,5]\n",
    "width_decile = -peaks_data_xebra['area_decile_from_midpoint'][:,1]"
   ]
  },
  {
   "cell_type": "code",
   "execution_count": null,
   "metadata": {},
   "outputs": [],
   "source": [
    "def CutCondition(integral, width, i):\n",
    "\n",
    "    if integral[i] > 3000 and integral[i] < 4500 and width[i] > 10 and width[i] < 50 \\\n",
    "    :\n",
    "        return(True)\n",
    "    else:\n",
    "        return(False)"
   ]
  },
  {
   "cell_type": "code",
   "execution_count": null,
   "metadata": {},
   "outputs": [],
   "source": [
    "def PrintWaveform(waveform,i):\n",
    "    \n",
    "    fig, ax1 = plt.subplots(sharex=False, figsize=(12, 3.5))\n",
    "    ax1.plot(waveform[i])\n",
    "    plt.show()\n"
   ]
  },
  {
   "cell_type": "code",
   "execution_count": null,
   "metadata": {},
   "outputs": [],
   "source": [
    "def Process(waveform, i):\n",
    "    \n",
    "    SelectionCutFlag = CutCondition(integral, width, i)\n",
    "    PrintingFlag = True\n",
    "\n",
    "\n",
    "    if PrintingFlag and SelectionCutFlag:\n",
    "#         PrintWaveform(waveform,i)\n",
    "        cut_integral.append(integral[i])\n",
    "        cut_width.append(width[i])\n",
    "\n",
    "    return()"
   ]
  },
  {
   "cell_type": "code",
   "execution_count": null,
   "metadata": {},
   "outputs": [],
   "source": [
    "cut_integral = []\n",
    "cut_width = []\n",
    "\n",
    "for i in range(0,len(waveform)):\n",
    "    \n",
    "    Process(waveform,i)"
   ]
  },
  {
   "cell_type": "code",
   "execution_count": null,
   "metadata": {},
   "outputs": [],
   "source": [
    "fig, ax1 = plt.subplots(figsize=(18,13))\n",
    "\n",
    "bins_x = np.logspace(1,5.5,100)\n",
    "bins_y = np.logspace(0.5,4,100)\n",
    "histo_max= 2*10**3\n",
    "pS2 = np.array([(3000,200),(20000,600)], dtype=[('area', np.float32), ('rt', np.float32)])\n",
    "p41 = np.array([(220,30),(400,45)], dtype=[('area', np.float32), ('rt', np.float32)])\n",
    "p32 = np.array([(150,20),(300,28)], dtype=[('area', np.float32), ('rt', np.float32)])\n",
    "p09 = np.array([(60,18),(120,28)], dtype=[('area', np.float32), ('rt', np.float32)])\n",
    "\n",
    "# ax1.plot(p41['area'][[0,1,1,0,0]],p41['rt'][[0,0,1,1,0]], c='r')\n",
    "# ax1.plot(p32['area'][[0,1,1,0,0]],p32['rt'][[0,0,1,1,0]], c='r')\n",
    "# ax1.plot(p09['area'][[0,1,1,0,0]],p09['rt'][[0,0,1,1,0]], c='r')\n",
    "\n",
    "\n",
    "counts1, _, _ = np.histogram2d(integral, width_decile, bins=(bins_x, bins_y))\n",
    "#counts2, _, _ = np.histogram2d(cut_integral, cut_width, bins=(bins_x, bins_y))\n",
    "im1 = ax1.pcolormesh(bins_x, bins_y, counts1.T, norm=LogNorm())\n",
    "cb1 = plt.colorbar(im1, ax=ax1, label='Counts/bin')\n",
    "ax1.set_xscale('log')\n",
    "ax1.set_yscale('log')\n",
    "ax1.set_xlabel('Area [pe]')\n",
    "ax1.set_ylabel('Risetime [ns]')\n",
    "\n",
    "SIZE = 20\n",
    "EXTRA_SIZE = 30\n",
    "\n",
    "plt.rc('font', size=SIZE)          # controls default text sizes\n",
    "plt.rc('axes', titlesize=EXTRA_SIZE)     # fontsize of the axes title\n",
    "plt.rc('axes', labelsize=SIZE)    # fontsize of the x and y labels\n",
    "plt.rc('xtick', labelsize=15)    # fontsize of the tick labels\n",
    "plt.rc('ytick', labelsize=15)    # fontsize of the tick labels\n",
    "plt.rc('legend', fontsize=SIZE)    # legend fontsize\n",
    "plt.rc('figure', titlesize=SIZE)\n",
    "\n",
    "#ax1.plot(pS2['area'][[0,1,1,0,0]],pS2['rt'][[0,0,1,1,0]], c='r')\n",
    "# im2 = ax2.pcolormesh(bins_x, bins_y, counts2.T, norm=LogNorm())\n",
    "# cb2 = plt.colorbar(im2, ax=ax2, label='Counts/bin')\n",
    "# ax2.set_xscale('log')\n",
    "# ax2.set_yscale('log')\n",
    "# ax2.set_xlabel('Area [pe]')\n",
    "# ax2.set_ylabel('Width [ns]')\n",
    "\n",
    "plt.show()\n",
    "print(len(waveform))"
   ]
  },
  {
   "cell_type": "code",
   "execution_count": null,
   "metadata": {},
   "outputs": [],
   "source": []
  }
 ],
 "metadata": {
  "kernelspec": {
   "display_name": "Python [conda env:strax]",
   "language": "python",
   "name": "conda-env-strax-py"
  },
  "language_info": {
   "codemirror_mode": {
    "name": "ipython",
    "version": 3
   },
   "file_extension": ".py",
   "mimetype": "text/x-python",
   "name": "python",
   "nbconvert_exporter": "python",
   "pygments_lexer": "ipython3",
   "version": "3.7.3"
  }
 },
 "nbformat": 4,
 "nbformat_minor": 2
}
