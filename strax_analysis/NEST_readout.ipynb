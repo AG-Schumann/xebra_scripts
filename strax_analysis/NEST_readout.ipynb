{
 "cells": [
  {
   "cell_type": "code",
   "execution_count": 1,
   "metadata": {},
   "outputs": [],
   "source": [
    "import numpy as np\n",
    "import matplotlib as mpl\n",
    "import matplotlib.pyplot as plt\n",
    "import matplotlib.colors as mcolors\n",
    "from matplotlib import colors\n",
    "from matplotlib.colors import LogNorm\n",
    "\n",
    "%matplotlib inline\n",
    "from scipy.optimize import curve_fit, minimize\n",
    "import strax\n",
    "import straxbra\n",
    "import math"
   ]
  },
  {
   "cell_type": "code",
   "execution_count": 2,
   "metadata": {},
   "outputs": [
    {
     "name": "stdout",
     "output_type": "stream",
     "text": [
      "[1405]\n"
     ]
    }
   ],
   "source": [
    "        store_dtype = np.dtype([\n",
    "            (\"number_of_events\", np.uint16),\n",
    "            (\"interaction_type\", np.unicode_, 16),\n",
    "            (\"energy_deposition\", np.float32),\n",
    "            (\"field_strength\", np.float32),\n",
    "            (\"mean_number_of_photons\", np.uint16),\n",
    "            (\"mean_number_of_electrons\", np.uint16),\n",
    "            (\"photon_yield\", np.float32),\n",
    "\n",
    "        ])\n",
    "\n",
    "drift_voltage = [50,100,150,200,250,300,350,400,450,500]\n",
    "\n",
    "\n",
    "NEST_array = np.load(\"./Light_yield_NEST.npy\")\n",
    "photon_yield_list_32keV = NEST_array[\"photon_yield\"][(NEST_array[\"energy_deposition\"] == 32)]\n",
    "photon_yield_list_32keV = list(photon_yield_list_32keV)\n",
    "\n",
    "photon_yield_list_9keV = NEST_array[\"photon_yield\"][(NEST_array[\"energy_deposition\"] == 9)]\n",
    "photon_yield_list_9keV = list(photon_yield_list_9keV)\n",
    "\n",
    "photon_yield_list_41keV = NEST_array[\"photon_yield\"][(NEST_array[\"energy_deposition\"] == 41)]\n",
    "photon_yield_list_41keV = list(photon_yield_list_41keV)\n",
    "\n",
    "number_drift_electrons = NEST_array[\"mean_number_of_electrons\"][(NEST_array[\"energy_deposition\"] == 41) & (NEST_array[\"field_strength\"] == 500)]\n",
    "print(number_drift_electrons)\n"
   ]
  }
 ],
 "metadata": {
  "kernelspec": {
   "display_name": "Python [conda env:strax]",
   "language": "python",
   "name": "conda-env-strax-py"
  },
  "language_info": {
   "codemirror_mode": {
    "name": "ipython",
    "version": 3
   },
   "file_extension": ".py",
   "mimetype": "text/x-python",
   "name": "python",
   "nbconvert_exporter": "python",
   "pygments_lexer": "ipython3",
   "version": "3.7.3"
  }
 },
 "nbformat": 4,
 "nbformat_minor": 2
}
