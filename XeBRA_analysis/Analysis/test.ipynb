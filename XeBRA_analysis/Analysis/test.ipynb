{
 "cells": [
  {
   "cell_type": "code",
   "execution_count": 1,
   "metadata": {},
   "outputs": [
    {
     "name": "stderr",
     "output_type": "stream",
     "text": [
      "Using TensorFlow backend.\n"
     ]
    }
   ],
   "source": [
    "import numpy as np\n",
    "import matplotlib as mpl\n",
    "import matplotlib.pyplot as plt\n",
    "import matplotlib.colors as mcolors\n",
    "from matplotlib import colors\n",
    "from matplotlib.colors import LogNorm\n",
    "import math\n",
    "\n",
    "%matplotlib inline\n",
    "from scipy.optimize import curve_fit, minimize\n",
    "import strax\n",
    "import straxbra\n",
    "import matplotlib.gridspec as gridspec\n",
    "from matplotlib.patches import Rectangle\n",
    "import matplotlib.patches as patches\n",
    "from matplotlib.ticker import AutoMinorLocator\n",
    "from matplotlib.image import NonUniformImage\n",
    "import pandas as pd\n",
    "from dataHandler import PeakHandler"
   ]
  },
  {
   "cell_type": "code",
   "execution_count": 5,
   "metadata": {},
   "outputs": [],
   "source": [
    "ctx = straxbra.XebraContext()\n",
    "run = '00192'\n",
    "peaks_data = ctx.get_array(run, 'peaks')"
   ]
  },
  {
   "cell_type": "code",
   "execution_count": null,
   "metadata": {},
   "outputs": [],
   "source": [
    "waveform = peaks_data['data']\n",
    "integral = peaks_data['area']\n",
    "width = peaks_data['width'][:,5]\n",
    "timestamp = peaks_data['time']\n",
    "area_per_channel = peaks_data['area_per_channel']\n",
    "risetime = -peaks_data['area_decile_from_midpoint'][:,1]"
   ]
  },
  {
   "cell_type": "code",
   "execution_count": null,
   "metadata": {},
   "outputs": [],
   "source": [
    "def CutCondition(waveform):\n",
    "    \n",
    "    \n",
    "    FirstPeak_area = sum(waveform[:15]) # range in samples (not ns!)\n",
    "    SecondPeak_area = sum(waveform[15:]) # range in samples (not ns!)\n",
    "\n",
    "    \n",
    "    if  FirstPeak_area > 100 and FirstPeak_area < 600 and SecondPeak_area > 40 and SecondPeak_area  < 200: \n",
    "#        print (i , secondS1_area, secondS1_peaktime)\n",
    "        return(True)\n",
    "    else:\n",
    "        return(False)\n",
    "    "
   ]
  },
  {
   "cell_type": "code",
   "execution_count": null,
   "metadata": {},
   "outputs": [],
   "source": [
    "def Process(waveform, i):\n",
    "    CutFlag = CutCondition(waveform[i])\n",
    "    if CutFlag == True:\n",
    "        test_list.append(integral[i])\n",
    "                    \n",
    "        return\n",
    "    else:\n",
    "        return"
   ]
  },
  {
   "cell_type": "code",
   "execution_count": null,
   "metadata": {},
   "outputs": [],
   "source": [
    "num = len(waveform)\n",
    "\n",
    "test_list = []\n",
    "\n",
    "print_counter = 0.0\n",
    "for i in range(0,num):\n",
    "    \n",
    "    Process(waveform,i)\n",
    "    \n",
    "    if i/num >= print_counter:\n",
    "        print(round(print_counter,2), end = ' ')\n",
    "        print_counter += 0.1\n",
    "        \n",
    "print(1.0)"
   ]
  }
 ],
 "metadata": {
  "kernelspec": {
   "display_name": "Python [conda env:strax]",
   "language": "python",
   "name": "conda-env-strax-py"
  },
  "language_info": {
   "codemirror_mode": {
    "name": "ipython",
    "version": 3
   },
   "file_extension": ".py",
   "mimetype": "text/x-python",
   "name": "python",
   "nbconvert_exporter": "python",
   "pygments_lexer": "ipython3",
   "version": "3.7.3"
  }
 },
 "nbformat": 4,
 "nbformat_minor": 2
}
