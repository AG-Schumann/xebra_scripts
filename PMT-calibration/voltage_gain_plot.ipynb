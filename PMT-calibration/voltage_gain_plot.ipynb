{
 "cells": [
  {
   "cell_type": "code",
   "execution_count": 4,
   "metadata": {
    "collapsed": false
   },
   "outputs": [],
   "source": [
    "import matplotlib.pyplot as plt\n",
    "\n",
    "voltage = [800, 830, 850, 870, 900]\n",
    "\n",
    "\n",
    "gain_LV1413 =[3.24, 4.248, 5.12, 6.242, 8.376]\n",
    "gain_LV1421 =[5.897, 8.103, 9.97, 11.949, 15.28]\n",
    "gain_LV1405 =[3.731, 5.277, 6.433, 7.707, 10.176]\n",
    "gain_LV1418 =[3.841, 5.233, 6.228, 7.619, 10.061]\n",
    "gain_LV1371 =[2.973, 3.915, 4.829, 5.884, 7.862]\n",
    "gain_LV1388 =[3.549, 5.091, 5.904, 7.083, 9.212]\n",
    "gain_LV1439 =[6.743, 9.304, 11.174, 13.731,17.119]\n",
    "\n",
    "\n",
    "mean_LV1439 = [6.782, 9.251, 11.247, 13.510, 17.219]\n",
    "error_LV1439=[0.038, 0.052, 0.073,0.216, 0.099]\n",
    "#plt.scatter(voltage,gain_LV1405)\n",
    "\n",
    "\n",
    "#plt.errorbar(voltage, gain_LV1405, yerr=error_LV1405, color='red', linestyle='None', marker='o', markerfacecolor='blue', markersize=5, label= \"LV1405\")\n",
    "\n",
    "plt.plot(voltage ,gain_LV1413, color='r', linestyle='None', marker='o', markersize=5, label= \"LV1405\")\n",
    "plt.plot(voltage ,gain_LV1421, color='b', linestyle='None', marker='o', markersize=5, label= \"LV1421\")\n",
    "plt.plot(voltage ,gain_LV1405, color='g', linestyle='None', marker='o', markersize=5, label= \"LV1405\")\n",
    "plt.plot(voltage ,gain_LV1418, color='c', linestyle='None', marker='o', markersize=5, label= \"LV1418\")\n",
    "plt.plot(voltage ,gain_LV1371, color='m', linestyle='None', marker='o', markersize=5, label= \"LV1371\")\n",
    "plt.plot(voltage ,gain_LV1388, color='y', linestyle='None', marker='o', markersize=5, label= \"LV1388\")\n",
    "plt.plot(voltage ,gain_LV1439, color='k', linestyle='None', marker='o', markersize=5, label= \"LV1439\")\n",
    "\n",
    "#plt.errorbar(voltage, gain_LV1439, yerr=error_LV1439, fmt= 'o', label= \"LV1439\")\n",
    "plt.axis([780, 920, 2, 20])\n",
    "plt.ylabel(\"gain factor [10⁶]\")\n",
    "plt.xlabel(\"power supply [V]\")\n",
    "#plt.title(\"Gain factor for 11 tested R8520-406 PMTs\")\n",
    "plt.legend(loc=2)\n",
    "plt.grid(b=True, which='major', color='k', linestyle='-.')\n",
    "\n",
    "plt.show()\n"
   ]
  }
 ],
 "metadata": {
  "kernelspec": {
   "display_name": "Python 3",
   "language": "python",
   "name": "python3"
  },
  "language_info": {
   "codemirror_mode": {
    "name": "ipython",
    "version": 3
   },
   "file_extension": ".py",
   "mimetype": "text/x-python",
   "name": "python",
   "nbconvert_exporter": "python",
   "pygments_lexer": "ipython3",
   "version": "3.5.4"
  }
 },
 "nbformat": 4,
 "nbformat_minor": 0
}
