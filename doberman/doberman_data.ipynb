{
 "cells": [
  {
   "cell_type": "code",
   "execution_count": null,
   "metadata": {},
   "outputs": [],
   "source": [
    "# run this on doberman\n",
    "import numpy as np\n",
    "from pymongo import MongoClient\n",
    "from datetime import datetime\n",
    "import matplotlib as mpl\n",
    "import matplotlib.pyplot as plt\n",
    "%matplotlib inline\n",
    "\n",
    "import scipy\n",
    "from scipy.optimize import curve_fit\n",
    "import os"
   ]
  },
  {
   "cell_type": "code",
   "execution_count": null,
   "metadata": {},
   "outputs": [],
   "source": [
    "client = MongoClient('mongodb://doberman:%s@127.0.0.1:13178' % os.environ['doberman_password'])"
   ]
  },
  {
   "cell_type": "code",
   "execution_count": null,
   "metadata": {},
   "outputs": [],
   "source": [
    "controller_name = 'pfeiffer_tpg'\n",
    "date_start = datetime(2018,7,10,12,0,0,0)\n",
    "date_end = datetime(2018,7,12,12,0,0,0)\n",
    "# date_end = None"
   ]
  },
  {
   "cell_type": "code",
   "execution_count": null,
   "metadata": {},
   "outputs": [],
   "source": [
    "db = client['data']\n",
    "if controller_name not in db.collection_names(False):\n",
    "    print('Didn\\'t find a controller named %s' % controller_name)\n",
    "else:\n",
    "    when = []\n",
    "    values = []\n",
    "    cuts = {'when' : {'$gte' : date_start}}\n",
    "    if date_end is not None:\n",
    "        cuts['when'].update({'$lte' : date_end})\n",
    "    for row in db[controller_name].find(cuts):\n",
    "        when.append(row['when'])\n",
    "        values.append(row['data'])\n",
    "    values = np.array(values)"
   ]
  },
  {
   "cell_type": "code",
   "execution_count": null,
   "metadata": {},
   "outputs": [],
   "source": [
    "plt.figure(figsize=(12,9))\n",
    "\n",
    "data_index = 0\n",
    "\n",
    "plt.plot_date(when, values[:,data_index])\n",
    "plt.xlabel('Time')\n",
    "plt.ylabel('Data')\n",
    "plt.show()"
   ]
  }
 ],
 "metadata": {
  "kernelspec": {
   "display_name": "Python 3",
   "language": "python",
   "name": "python3"
  },
  "language_info": {
   "codemirror_mode": {
    "name": "ipython",
    "version": 3
   },
   "file_extension": ".py",
   "mimetype": "text/x-python",
   "name": "python",
   "nbconvert_exporter": "python",
   "pygments_lexer": "ipython3",
   "version": "3.6.5"
  }
 },
 "nbformat": 4,
 "nbformat_minor": 2
}
